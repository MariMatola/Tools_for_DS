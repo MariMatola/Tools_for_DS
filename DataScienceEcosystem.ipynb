{
 "cells": [
  {
   "cell_type": "markdown",
   "id": "00e69c95-cff3-438a-b7e2-91dbc90581a9",
   "metadata": {},
   "source": [
    "# Data Science Tools and Ecosystem"
   ]
  },
  {
   "cell_type": "markdown",
   "id": "fc6f5944-4725-442e-add1-f461a497ca4f",
   "metadata": {},
   "source": [
    "### In this notebook, Data Science Tools and Ecosystem are summarized."
   ]
  },
  {
   "cell_type": "markdown",
   "id": "58f8f987-0e9b-450d-96dd-70805c186ed2",
   "metadata": {},
   "source": [
    "#### Objectives:\n",
    "* List popular languages for Data Science\n",
    "* List commonly used libraries used in Data Science\n",
    "* List Data Science Tools\n",
    "* Give examples of evaluating arithmetic expressions in Python"
   ]
  },
  {
   "cell_type": "markdown",
   "id": "8dd5365f-60cd-4377-ba02-546a878aded8",
   "metadata": {},
   "source": [
    "#### Some of the popular languages that Data Scientists use are:\n",
    "1. Python\n",
    "2. SQL\n",
    "3. R\n",
    "4. Scala\n",
    "5. Julia\n",
    "6. JavaScript\n",
    "7. Java\n",
    "8. C++"
   ]
  },
  {
   "cell_type": "markdown",
   "id": "d4ac1202-2119-434b-bd78-a228e6979d59",
   "metadata": {},
   "source": [
    "#### Some of the commonly used libraries used by Data Scientists include:\n",
    "1. Scientific computing libraries:\n",
    "  * Pandas\n",
    "  * NumPy\n",
    "2. Visualization libraries in Python:\n",
    "  * Matplotlib\n",
    "  * Seaborn\n",
    "3. Hight-level machine learning and deep learning libraries:\n",
    "  * Scikit-learn\n",
    "  * Keras\n",
    "4. Deep Learning libraries in Python:\n",
    "  * TensorFlow\n",
    "  * PyTorch\n",
    "5. Libraries used in other languages:\n",
    "  * Scala: Vegas, BigDL\n",
    "  * R: ggplot\n",
    "     "
   ]
  },
  {
   "cell_type": "markdown",
   "id": "f7f2a494-861f-446f-9eb1-01891bd2201a",
   "metadata": {},
   "source": [
    "|Data Science Tools|\n",
    "-------------------\n",
    "|Jupiter Notebook|\n",
    "|RStudio|\n",
    "|Spyder|\n",
    "\n"
   ]
  },
  {
   "cell_type": "markdown",
   "id": "9d3dacc7-06b7-462f-ac0a-1f8f8b2a9006",
   "metadata": {},
   "source": [
    "### Below are a few examples of evaluating arithmetic expressions in Python:\n"
   ]
  },
  {
   "cell_type": "code",
   "execution_count": 18,
   "id": "71207c5f-6706-4f76-be97-547e287715ed",
   "metadata": {},
   "outputs": [
    {
     "data": {
      "text/plain": [
       "17"
      ]
     },
     "execution_count": 18,
     "metadata": {},
     "output_type": "execute_result"
    }
   ],
   "source": [
    "(3*4)+5\n",
    "#This a simple arithmetic expression to mutiply then add integers"
   ]
  },
  {
   "cell_type": "code",
   "execution_count": 30,
   "id": "1f869019-c6f2-4996-b4a4-8cf7c90770eb",
   "metadata": {},
   "outputs": [
    {
     "name": "stdout",
     "output_type": "stream",
     "text": [
      "3.33\n"
     ]
    }
   ],
   "source": [
    "minutes = 200\n",
    "min_to_hour = minutes/60\n",
    "print(round(min_to_hour, 2))\n",
    "# This will convert 200 minutes to hours by diving by 60"
   ]
  },
  {
   "cell_type": "markdown",
   "id": "24a9a473-5b15-435a-b7c7-f5a9da0b2d45",
   "metadata": {},
   "source": [
    "## Author \n",
    "Marianna Matola"
   ]
  }
 ],
 "metadata": {
  "kernelspec": {
   "display_name": "Python 3 (ipykernel)",
   "language": "python",
   "name": "python3"
  },
  "language_info": {
   "codemirror_mode": {
    "name": "ipython",
    "version": 3
   },
   "file_extension": ".py",
   "mimetype": "text/x-python",
   "name": "python",
   "nbconvert_exporter": "python",
   "pygments_lexer": "ipython3",
   "version": "3.12.4"
  }
 },
 "nbformat": 4,
 "nbformat_minor": 5
}
